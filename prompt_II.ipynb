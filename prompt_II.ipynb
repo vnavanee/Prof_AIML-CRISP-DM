{
 "cells": [
  {
   "cell_type": "markdown",
   "metadata": {},
   "source": [
    "# What drives the price of a car?\n",
    "\n",
    "![](images/kurt.jpeg)"
   ]
  },
  {
   "cell_type": "markdown",
   "metadata": {},
   "source": [
    "**OVERVIEW**\n",
    "\n",
    "In this application, you will explore a dataset from kaggle that contains information on 3 million used cars.  Your goal is to understand what factors make a car more or less expensive.  As a result of your analysis, you should provide clear recommendations to your client -- a used car dealership -- as to what consumers value in a used car."
   ]
  },
  {
   "cell_type": "markdown",
   "metadata": {},
   "source": [
    "### CRISP-DM Framework\n",
    "\n",
    "<center>\n",
    "    <img src = images/crisp.png width = 50%/>\n",
    "</center>\n",
    "\n",
    "\n",
    "To frame the task, throughout our practical applications we will refer back to a standard process in industry for data projects called CRISP-DM.  This process provides a framework for working through a data problem.  Your first step in this application will be to read through a brief overview of CRISP-DM [here](https://mo-pcco.s3.us-east-1.amazonaws.com/BH-PCMLAI/module_11/readings_starter.zip).  After reading the overview, answer the questions below."
   ]
  },
  {
   "cell_type": "markdown",
   "metadata": {},
   "source": [
    "### Business Understanding\n",
    "\n",
    "\n",
    "From a business perspective, we are tasked with identifying key drivers for used car prices.  In the CRISP-DM overview, we are asked to convert this business framing to a data problem definition.  Using a few sentences, reframe the task as a data task with the appropriate technical vocabulary. "
   ]
  },
  {
   "cell_type": "markdown",
   "metadata": {},
   "source": [
    "#### Business Objective: The primary objective of the business is to find out what consumers value in a used car.\n",
    "\n",
    "Related business questions:\n",
    "1. What and how much features of a used car contribute to the price of the car?<br>\n",
    "2. What are the features of a car that consumers value to purchase that car? <br>\n",
    "The assumption is that the cars that are bought in higher numbers has the features that customers like while comparing the same make and model of the car.\n",
    "\n",
    "Data mining goal: Predict the sale of a  certain used car in the dealership.\n",
    "\n",
    "Data mining success criteria: Predict the sale of a certain used car accurately 80% of the time."
   ]
  },
  {
   "cell_type": "code",
   "execution_count": 1,
   "metadata": {},
   "outputs": [],
   "source": [
    "import matplotlib.pyplot as plt\n",
    "import pandas as pd\n",
    "import numpy as np\n",
    "import seaborn as sns"
   ]
  },
  {
   "cell_type": "markdown",
   "metadata": {},
   "source": [
    "### Data Understanding\n",
    "\n",
    "After considering the business understanding, we want to get familiar with our data.  Write down some steps that you would take to get to know the dataset and identify any quality issues within.  Take time to get to know the dataset and explore what information it contains and how this could be used to inform your business understanding."
   ]
  },
  {
   "cell_type": "markdown",
   "metadata": {},
   "source": [
    "Initial Data: A kaggle dataset with 426,880 not null rows will be used for this analysis. The data has been downloaded from Kaggle. \n",
    "\n",
    "Data Description: The data has NaN values that needs to be addressed either with a default or if a default cannot be assigned then by removing the row with NaN value. There are 18 columns with 3 of the relevant columns being a number. The other 14 object type columns. Size information is missing for about two-thirds of vehicles in this dataset.The VIN is another identification number besides the id."
   ]
  },
  {
   "cell_type": "code",
   "execution_count": 3,
   "metadata": {},
   "outputs": [],
   "source": [
    "car_data = pd.read_csv('data/vehicles.csv')"
   ]
  },
  {
   "cell_type": "code",
   "execution_count": 4,
   "metadata": {},
   "outputs": [
    {
     "name": "stdout",
     "output_type": "stream",
     "text": [
      "<class 'pandas.core.frame.DataFrame'>\n",
      "RangeIndex: 426880 entries, 0 to 426879\n",
      "Data columns (total 18 columns):\n",
      " #   Column        Non-Null Count   Dtype  \n",
      "---  ------        --------------   -----  \n",
      " 0   id            426880 non-null  int64  \n",
      " 1   region        426880 non-null  object \n",
      " 2   price         426880 non-null  int64  \n",
      " 3   year          425675 non-null  float64\n",
      " 4   manufacturer  409234 non-null  object \n",
      " 5   model         421603 non-null  object \n",
      " 6   condition     252776 non-null  object \n",
      " 7   cylinders     249202 non-null  object \n",
      " 8   fuel          423867 non-null  object \n",
      " 9   odometer      422480 non-null  float64\n",
      " 10  title_status  418638 non-null  object \n",
      " 11  transmission  424324 non-null  object \n",
      " 12  VIN           265838 non-null  object \n",
      " 13  drive         296313 non-null  object \n",
      " 14  size          120519 non-null  object \n",
      " 15  type          334022 non-null  object \n",
      " 16  paint_color   296677 non-null  object \n",
      " 17  state         426880 non-null  object \n",
      "dtypes: float64(2), int64(2), object(14)\n",
      "memory usage: 58.6+ MB\n"
     ]
    }
   ],
   "source": [
    "car_data.info()"
   ]
  },
  {
   "cell_type": "code",
   "execution_count": 5,
   "metadata": {},
   "outputs": [
    {
     "data": {
      "text/plain": [
       "Text(0.5, 1.0, 'Number of rows for each Cylinder type')"
      ]
     },
     "execution_count": 5,
     "metadata": {},
     "output_type": "execute_result"
    },
    {
     "data": {
      "image/png": "[encoded data removed]",
      "text/plain": [
       "<Figure size 432x288 with 1 Axes>"
      ]
     },
     "metadata": {
      "needs_background": "light"
     },
     "output_type": "display_data"
    }
   ],
   "source": [
    "cyl = car_data.groupby('cylinders')['price'].count().sort_values()\n",
    "cyl.plot.bar()\n",
    "plt.xticks(rotation='vertical')\n",
    "plt.title(\"Number of rows for each Cylinder type\")"
   ]
  },
  {
   "cell_type": "code",
   "execution_count": 6,
   "metadata": {},
   "outputs": [
    {
     "data": {
      "text/plain": [
       "Text(0.5, 1.0, 'Number of rows for each paint color')"
      ]
     },
     "execution_count": 6,
     "metadata": {},
     "output_type": "execute_result"
    },
    {
     "data": {
      "image/png": "[encoded data removed]",
      "text/plain": [
       "<Figure size 432x288 with 1 Axes>"
      ]
     },
     "metadata": {
      "needs_background": "light"
     },
     "output_type": "display_data"
    }
   ],
   "source": [
    "paint = car_data.groupby('paint_color')['price'].count().sort_values()\n",
    "paint.plot.bar()\n",
    "plt.xticks(rotation='vertical')\n",
    "plt.title(\"Number of rows for each paint color\")"
   ]
  },
  {
   "cell_type": "code",
   "execution_count": 7,
   "metadata": {},
   "outputs": [
    {
     "data": {
      "text/plain": [
       "Text(0.5, 1.0, 'Number of rows for each Condition type')"
      ]
     },
     "execution_count": 7,
     "metadata": {},
     "output_type": "execute_result"
    },
    {
     "data": {
      "image/png": "[encoded data removed]",
      "text/plain": [
       "<Figure size 432x288 with 1 Axes>"
      ]
     },
     "metadata": {
      "needs_background": "light"
     },
     "output_type": "display_data"
    }
   ],
   "source": [
    "cond = car_data.groupby('condition')['price'].count().sort_values()\n",
    "cond.plot.bar()\n",
    "plt.xticks(rotation='vertical')\n",
    "plt.title(\"Number of rows for each Condition type\")"
   ]
  },
  {
   "cell_type": "code",
   "execution_count": 8,
   "metadata": {},
   "outputs": [
    {
     "data": {
      "text/plain": [
       "Text(0.5, 1.0, 'Number of rows for each Fuel type')"
      ]
     },
     "execution_count": 8,
     "metadata": {},
     "output_type": "execute_result"
    },
    {
     "data": {
      "image/png": "[encoded data removed]",
      "text/plain": [
       "<Figure size 432x288 with 1 Axes>"
      ]
     },
     "metadata": {
      "needs_background": "light"
     },
     "output_type": "display_data"
    }
   ],
   "source": [
    "fuel = car_data.groupby('fuel')['price'].count().sort_values()\n",
    "fuel.plot.bar()\n",
    "plt.xticks(rotation='vertical')\n",
    "plt.title(\"Number of rows for each Fuel type\")"
   ]
  },
  {
   "cell_type": "code",
   "execution_count": 9,
   "metadata": {},
   "outputs": [
    {
     "data": {
      "text/plain": [
       "Text(0.5, 1.0, 'Number of rows for each Title Status type')"
      ]
     },
     "execution_count": 9,
     "metadata": {},
     "output_type": "execute_result"
    },
    {
     "data": {
      "image/png": "[encoded data removed]",
      "text/plain": [
       "<Figure size 432x288 with 1 Axes>"
      ]
     },
     "metadata": {
      "needs_background": "light"
     },
     "output_type": "display_data"
    }
   ],
   "source": [
    "titlest = car_data.groupby('title_status')['price'].count().sort_values()\n",
    "titlest.plot.bar()\n",
    "plt.xticks(rotation='vertical')\n",
    "plt.title(\"Number of rows for each Title Status type\")"
   ]
  },
  {
   "cell_type": "code",
   "execution_count": 10,
   "metadata": {},
   "outputs": [
    {
     "data": {
      "text/plain": [
       "Text(0.5, 1.0, 'Number of rows for each Transmission type')"
      ]
     },
     "execution_count": 10,
     "metadata": {},
     "output_type": "execute_result"
    },
    {
     "data": {
      "image/png": "[encoded data removed]",
      "text/plain": [
       "<Figure size 432x288 with 1 Axes>"
      ]
     },
     "metadata": {
      "needs_background": "light"
     },
     "output_type": "display_data"
    }
   ],
   "source": [
    "trans = car_data.groupby('transmission')['price'].count().sort_values()\n",
    "trans.plot.bar()\n",
    "plt.xticks(rotation='vertical')\n",
    "plt.title(\"Number of rows for each Transmission type\")"
   ]
  },
  {
   "cell_type": "code",
   "execution_count": 11,
   "metadata": {},
   "outputs": [
    {
     "data": {
      "text/plain": [
       "Text(0.5, 1.0, 'Number of rows for each Drive type')"
      ]
     },
     "execution_count": 11,
     "metadata": {},
     "output_type": "execute_result"
    },
    {
     "data": {
      "image/png": "[encoded data removed]",
      "text/plain": [
       "<Figure size 432x288 with 1 Axes>"
      ]
     },
     "metadata": {
      "needs_background": "light"
     },
     "output_type": "display_data"
    }
   ],
   "source": [
    "drive = car_data.groupby('drive')['price'].count().sort_values()\n",
    "drive.plot.bar()\n",
    "plt.xticks(rotation='vertical')\n",
    "plt.title(\"Number of rows for each Drive type\")"
   ]
  },
  {
   "cell_type": "code",
   "execution_count": 12,
   "metadata": {},
   "outputs": [
    {
     "data": {
      "text/plain": [
       "model\n",
       "f-150                          8009\n",
       "silverado 1500                 5140\n",
       "1500                           4211\n",
       "camry                          3135\n",
       "silverado                      3023\n",
       "                               ... \n",
       "crosstrek 2.0i premium aw         1\n",
       "crosstrek 2.0i prem               1\n",
       "crosstrek 2.0i limited cvt        1\n",
       "crosstrek 2.0i limited aw         1\n",
       "🔥GMC Sierra 1500 SLE🔥 4X4 🔥       1\n",
       "Name: price, Length: 29649, dtype: int64"
      ]
     },
     "execution_count": 12,
     "metadata": {},
     "output_type": "execute_result"
    }
   ],
   "source": [
    "car_data.groupby(['model'])['price'].count().sort_values(ascending=False)"
   ]
  },
  {
   "cell_type": "code",
   "execution_count": 13,
   "metadata": {},
   "outputs": [
    {
     "data": {
      "text/plain": [
       "year\n",
       "2000.0    3572\n",
       "1999.0    3094\n",
       "2021.0    2396\n",
       "1998.0    1988\n",
       "1997.0    1724\n",
       "1996.0    1302\n",
       "1995.0    1246\n",
       "1994.0     968\n",
       "1993.0     712\n",
       "1992.0     626\n",
       "1991.0     608\n",
       "1990.0     599\n",
       "1989.0     571\n",
       "1987.0     532\n",
       "1988.0     528\n",
       "1986.0     523\n",
       "1985.0     469\n",
       "1968.0     425\n",
       "1966.0     424\n",
       "1969.0     409\n",
       "1972.0     409\n",
       "1984.0     387\n",
       "1979.0     387\n",
       "1965.0     365\n",
       "1967.0     357\n",
       "1970.0     345\n",
       "1978.0     345\n",
       "1973.0     334\n",
       "1971.0     312\n",
       "1974.0     280\n",
       "1977.0     273\n",
       "1980.0     272\n",
       "1964.0     270\n",
       "1983.0     257\n",
       "1976.0     242\n",
       "1963.0     234\n",
       "1955.0     226\n",
       "1982.0     217\n",
       "1981.0     214\n",
       "1975.0     204\n",
       "1957.0     174\n",
       "1956.0     160\n",
       "1962.0     138\n",
       "2022.0     133\n",
       "Name: price, dtype: int64"
      ]
     },
     "execution_count": 13,
     "metadata": {},
     "output_type": "execute_result"
    }
   ],
   "source": [
    "car_data.groupby(['year'])['price'].count().sort_values(ascending=False).loc[2000:2022]"
   ]
  },
  {
   "cell_type": "code",
   "execution_count": 14,
   "metadata": {},
   "outputs": [],
   "source": [
    "pd.set_option('display.float_format', lambda x: '%.3f' % x)"
   ]
  },
  {
   "cell_type": "code",
   "execution_count": 15,
   "metadata": {},
   "outputs": [
    {
     "data": {
      "text/html": [
       "<div>\n",
       "<style scoped>\n",
       "    .dataframe tbody tr th:only-of-type {\n",
       "        vertical-align: middle;\n",
       "    }\n",
       "\n",
       "    .dataframe tbody tr th {\n",
       "        vertical-align: top;\n",
       "    }\n",
       "\n",
       "    .dataframe thead th {\n",
       "        text-align: right;\n",
       "    }\n",
       "</style>\n",
       "<table border=\"1\" class=\"dataframe\">\n",
       "  <thead>\n",
       "    <tr style=\"text-align: right;\">\n",
       "      <th></th>\n",
       "      <th>price</th>\n",
       "    </tr>\n",
       "  </thead>\n",
       "  <tbody>\n",
       "    <tr>\n",
       "      <th>count</th>\n",
       "      <td>426880.000</td>\n",
       "    </tr>\n",
       "    <tr>\n",
       "      <th>mean</th>\n",
       "      <td>75199.033</td>\n",
       "    </tr>\n",
       "    <tr>\n",
       "      <th>std</th>\n",
       "      <td>12182282.174</td>\n",
       "    </tr>\n",
       "    <tr>\n",
       "      <th>min</th>\n",
       "      <td>0.000</td>\n",
       "    </tr>\n",
       "    <tr>\n",
       "      <th>25%</th>\n",
       "      <td>5900.000</td>\n",
       "    </tr>\n",
       "    <tr>\n",
       "      <th>50%</th>\n",
       "      <td>13950.000</td>\n",
       "    </tr>\n",
       "    <tr>\n",
       "      <th>75%</th>\n",
       "      <td>26485.750</td>\n",
       "    </tr>\n",
       "    <tr>\n",
       "      <th>max</th>\n",
       "      <td>3736928711.000</td>\n",
       "    </tr>\n",
       "  </tbody>\n",
       "</table>\n",
       "</div>"
      ],
      "text/plain": [
       "               price\n",
       "count     426880.000\n",
       "mean       75199.033\n",
       "std     12182282.174\n",
       "min            0.000\n",
       "25%         5900.000\n",
       "50%        13950.000\n",
       "75%        26485.750\n",
       "max   3736928711.000"
      ]
     },
     "execution_count": 15,
     "metadata": {},
     "output_type": "execute_result"
    }
   ],
   "source": [
    "car_data[['price']].describe()\n"
   ]
  },
  {
   "cell_type": "markdown",
   "metadata": {},
   "source": [
    "Data Exploration:\n",
    "Cylinder type: It makes sense to just keep the most common ones - 4, 6 amd 8 cylinder types. All other data types can be removed.\n",
    "Paint color - Keep all data and process using one hot encoding\n",
    "Condition - All data categories will be processed using ordinal encoding with 6-1 new, like new, excellent, good, fair and salvage in that order.\n",
    "Fuel - Include all data categories with one hot encoding.\n",
    "Title Status - Remove missing and parts only rows. Other rows subject ordinal encoding with clean at 1 and lien at 4\n",
    "Transmission - Include all categories with one hot encoding.\n",
    "Drive - Include all categories with one hot encoding.\n",
    "Model - There are 29,649 models and the data is not all about model name. Need a process to clean this up. May be remove values with count 1. 1500, 2500 and 3500 entries merge with respective Silverado models.\n",
    "Year - Possibly remove counts of 1.\n",
    "\n",
    "Data Quality: There are a lot of data that are missing. Some data such as models have quality issues where a same product is described differently. For instance models for Silverado 1500 is described as 1500 and Silverado 1500. The data should be merged to get a better picture of the data."
   ]
  },
  {
   "cell_type": "markdown",
   "metadata": {},
   "source": [
    "### Data Preparation\n",
    "\n",
    "After our initial exploration and fine tuning of the business understanding, it is time to construct our final dataset prior to modeling.  Here, we want to make sure to handle any integrity issues and cleaning, the engineering of new features, any transformations that we believe should happen (scaling, logarithms, normalization, etc.), and general preparation for modeling with `sklearn`. "
   ]
  },
  {
   "cell_type": "code",
   "execution_count": 16,
   "metadata": {},
   "outputs": [],
   "source": [
    "#Remove columns that are not needed or have not enough data\n",
    "car_data = car_data.drop(['id', 'region', 'VIN', 'state', 'size'], axis=1)"
   ]
  },
  {
   "cell_type": "code",
   "execution_count": 17,
   "metadata": {},
   "outputs": [],
   "source": [
    "#Fill \"good\" value where there is no value\n",
    "car_data['condition'] = car_data['condition'].fillna('good')"
   ]
  },
  {
   "cell_type": "code",
   "execution_count": 18,
   "metadata": {},
   "outputs": [],
   "source": [
    "#Remove rows that are na\n",
    "car_data = car_data.dropna()"
   ]
  },
  {
   "cell_type": "code",
   "execution_count": 19,
   "metadata": {},
   "outputs": [
    {
     "data": {
      "text/plain": [
       "model\n",
       "econoline                        101\n",
       "fusion sel                       102\n",
       "benz e350                        102\n",
       "sonata gls                       103\n",
       "econoline commercial cutaway     104\n",
       "                                ... \n",
       "accord                          1333\n",
       "camry                           1386\n",
       "1500                            1520\n",
       "silverado 1500                  2528\n",
       "f-150                           3112\n",
       "Name: price, Length: 260, dtype: int64"
      ]
     },
     "execution_count": 19,
     "metadata": {},
     "output_type": "execute_result"
    }
   ],
   "source": [
    "car_data.drop(car_data.groupby('model').filter(lambda x: x.price.count()<=100).index).groupby('model')['price'].count().sort_values()"
   ]
  },
  {
   "cell_type": "code",
   "execution_count": 20,
   "metadata": {},
   "outputs": [
    {
     "name": "stdout",
     "output_type": "stream",
     "text": [
      "<class 'pandas.core.frame.DataFrame'>\n",
      "Int64Index: 156527 entries, 31 to 426878\n",
      "Data columns (total 13 columns):\n",
      " #   Column        Non-Null Count   Dtype  \n",
      "---  ------        --------------   -----  \n",
      " 0   price         156527 non-null  int64  \n",
      " 1   year          156527 non-null  float64\n",
      " 2   manufacturer  156527 non-null  object \n",
      " 3   model         156527 non-null  object \n",
      " 4   condition     156527 non-null  object \n",
      " 5   cylinders     156527 non-null  object \n",
      " 6   fuel          156527 non-null  object \n",
      " 7   odometer      156527 non-null  float64\n",
      " 8   title_status  156527 non-null  object \n",
      " 9   transmission  156527 non-null  object \n",
      " 10  drive         156527 non-null  object \n",
      " 11  type          156527 non-null  object \n",
      " 12  paint_color   156527 non-null  object \n",
      "dtypes: float64(2), int64(1), object(10)\n",
      "memory usage: 20.8+ MB\n"
     ]
    }
   ],
   "source": [
    "car_data.info()"
   ]
  },
  {
   "cell_type": "code",
   "execution_count": 21,
   "metadata": {},
   "outputs": [],
   "source": [
    "#Merge certain data rows and remove rows that have counts less than 5. This will ensure to an extent one off data is removed\n",
    "car_data['model'] = car_data['model'].apply(lambda x:'silverado ' + x if (x=='1500') or (x=='2500') or (x=='3500') else x).str.lower()\n",
    "#Data restricted to top 259 models assuming approximately 250 models are offered each year in the US and 13,000 model categories makes training harder\n",
    "car_data = car_data.drop(car_data.groupby('model').filter(lambda x: x.price.count()<=100).index)"
   ]
  },
  {
   "cell_type": "markdown",
   "metadata": {},
   "source": [
    "### Modeling\n",
    "\n",
    "With your (almost?) final dataset in hand, it is now time to build some models.  Here, you should build a number of different regression models with the price as the target.  In building your models, you should explore different parameters and be sure to cross-validate your findings."
   ]
  },
  {
   "cell_type": "code",
   "execution_count": 2,
   "metadata": {},
   "outputs": [],
   "source": [
    "from sklearn.pipeline import Pipeline\n",
    "from sklearn.model_selection import GridSearchCV\n",
    "from sklearn.linear_model import LinearRegression, Ridge, Lasso\n",
    "from sklearn.preprocessing import PolynomialFeatures, StandardScaler, OneHotEncoder, OrdinalEncoder\n",
    "from sklearn.compose import make_column_transformer, TransformedTargetRegressor\n",
    "from sklearn.inspection import permutation_importance\n",
    "from sklearn.feature_selection import SequentialFeatureSelector\n",
    "from sklearn.model_selection import train_test_split\n",
    "from sklearn.compose import make_column_transformer, make_column_selector\n",
    "from sklearn.metrics import mean_squared_error\n",
    "import scipy as sp"
   ]
  },
  {
   "cell_type": "code",
   "execution_count": 41,
   "metadata": {},
   "outputs": [
    {
     "data": {
      "text/plain": [
       "318592   291.062\n",
       "136516     1.319\n",
       "155421     0.091\n",
       "219241     0.082\n",
       "201823     0.010\n",
       "           ...  \n",
       "29130     -0.005\n",
       "361139    -0.005\n",
       "243687    -0.005\n",
       "399279    -0.005\n",
       "126798    -0.005\n",
       "Name: price, Length: 84721, dtype: float64"
      ]
     },
     "execution_count": 41,
     "metadata": {},
     "output_type": "execute_result"
    }
   ],
   "source": [
    "X = car_data.drop('price', axis=1)\n",
    "#standardize price\n",
    "y = (car_data['price'] - car_data['price'].mean())/car_data['price'].std()\n",
    "y.sort_values(ascending=False)"
   ]
  },
  {
   "cell_type": "code",
   "execution_count": 42,
   "metadata": {},
   "outputs": [],
   "source": [
    "X_train, X_test, y_train, y_test = train_test_split(X, y, test_size=0.3)"
   ]
  },
  {
   "cell_type": "code",
   "execution_count": 43,
   "metadata": {},
   "outputs": [
    {
     "data": {
      "text/plain": [
       "array([[5., 3.],\n",
       "       [5., 4.],\n",
       "       [5., 2.],\n",
       "       ...,\n",
       "       [5., 3.],\n",
       "       [5., 2.],\n",
       "       [5., 2.]])"
      ]
     },
     "execution_count": 43,
     "metadata": {},
     "output_type": "execute_result"
    }
   ],
   "source": [
    "#There are two numeric data type features (year and odometer) and we will go with polynomial features - degree=2\n",
    "\n",
    "# features that would need one hot encoding\n",
    "categorical_feats_ohe = ['manufacturer','model', 'cylinders','fuel','transmission','drive', 'type', 'paint_color']\n",
    "#features that woule be processed with ordinal encoding\n",
    "#title status - clean, rebuilt, salvage, lien, missing, parts only\n",
    "#condition - good, excellent, fair, like new, new, salvage\n",
    "categorical_feats_oe = ['title_status','condition']\n",
    "oe = OrdinalEncoder(categories=[['parts only', 'missing', 'lien', 'salvage', 'rebuilt', 'clean'],\\\n",
    "                                ['salvage', 'fair', 'good', 'excellent', 'like new', 'new']])\n",
    "\n",
    "\n",
    "oe.fit_transform(X_train[categorical_feats_oe])\n"
   ]
  },
  {
   "cell_type": "code",
   "execution_count": 44,
   "metadata": {},
   "outputs": [],
   "source": [
    "poly_ordinal_ohe = make_column_transformer((PolynomialFeatures(degree=2), make_column_selector(dtype_include=np.number)),\n",
    "                                                                   (OneHotEncoder(drop = 'if_binary'), categorical_feats_ohe),\n",
    "    (OrdinalEncoder(categories=[['parts only', 'missing', 'lien', 'salvage', 'rebuilt', 'clean'],\\\n",
    "                                ['salvage', 'fair', 'good', 'excellent', 'like new', 'new']]),categorical_feats_oe))"
   ]
  },
  {
   "cell_type": "code",
   "execution_count": 45,
   "metadata": {},
   "outputs": [
    {
     "name": "stdout",
     "output_type": "stream",
     "text": [
      "1.428519883678636\n",
      "0.00011195438090657061\n"
     ]
    }
   ],
   "source": [
    "pipe = Pipeline([('transformer', poly_ordinal_ohe),  ('linreg', LinearRegression())])\n",
    "pipe.fit(X_train, y_train)\n",
    "p1 = pipe.predict(X_train)\n",
    "p2 = pipe.predict(X_test)\n",
    "train_mse = mean_squared_error(y_train,p1)\n",
    "test_mse = mean_squared_error(y_test, p2)\n",
    "print(train_mse)\n",
    "print(test_mse)"
   ]
  },
  {
   "cell_type": "code",
   "execution_count": 46,
   "metadata": {},
   "outputs": [
    {
     "name": "stdout",
     "output_type": "stream",
     "text": [
      "[['9.639455020315789e-33' 'polynomialfeatures__1']\n",
      " ['-1.0372472013324305e-18' 'polynomialfeatures__year']\n",
      " ['1.3713803975596216e-14' 'polynomialfeatures__odometer']\n",
      " ['-4.178976315118577e-15' 'polynomialfeatures__year^2']\n",
      " ['2.7468028703246447e-11' 'polynomialfeatures__year odometer']\n",
      " ['-5.67137091300531e-15' 'polynomialfeatures__odometer^2']\n",
      " ['-2.6264553663809992e-21' 'onehotencoder__manufacturer_acura']\n",
      " ['-1.920281056002252e-21' 'onehotencoder__manufacturer_audi']\n",
      " ['-6.200321690307258e-21' 'onehotencoder__manufacturer_bmw']\n",
      " ['-1.8064824504532477e-21' 'onehotencoder__manufacturer_buick']\n",
      " ['-3.064323453623468e-21' 'onehotencoder__manufacturer_cadillac']\n",
      " ['-4.102928025936837e-20' 'onehotencoder__manufacturer_chevrolet']\n",
      " ['-4.5421224663182985e-21' 'onehotencoder__manufacturer_chrysler']\n",
      " ['-9.782121176878472e-21' 'onehotencoder__manufacturer_dodge']\n",
      " ['-5.039279528797548e-20' 'onehotencoder__manufacturer_ford']\n",
      " ['-9.409698903148738e-21' 'onehotencoder__manufacturer_gmc']\n",
      " ['-1.936784977812748e-20' 'onehotencoder__manufacturer_honda']\n",
      " ['-8.00850283459395e-21' 'onehotencoder__manufacturer_hyundai']\n",
      " ['-3.0706343696217163e-22' 'onehotencoder__manufacturer_infiniti']\n",
      " ['-1.5517903583340577e-20' 'onehotencoder__manufacturer_jeep']\n",
      " ['-4.8626853597623146e-21' 'onehotencoder__manufacturer_kia']\n",
      " ['-2.4002217255640217e-21' 'onehotencoder__manufacturer_lexus']\n",
      " ['-1.5159363856804385e-21' 'onehotencoder__manufacturer_lincoln']\n",
      " ['-2.2966292832720964e-21' 'onehotencoder__manufacturer_mazda']\n",
      " ['-5.074665760180635e-21' 'onehotencoder__manufacturer_mercedes-benz']\n",
      " ['-5.20752826985039e-22' 'onehotencoder__manufacturer_mercury']\n",
      " ['-8.431103680016401e-22' 'onehotencoder__manufacturer_mini']\n",
      " ['-8.125770422372919e-22' 'onehotencoder__manufacturer_mitsubishi']\n",
      " ['-1.4069173824872918e-20' 'onehotencoder__manufacturer_nissan']\n",
      " ['-1.3616240684296738e-21' 'onehotencoder__manufacturer_pontiac']\n",
      " ['-9.585290210622262e-21' 'onehotencoder__manufacturer_ram']\n",
      " ['-3.6437572400209e-22' 'onehotencoder__manufacturer_rover']\n",
      " ['-3.7556268665113905e-22' 'onehotencoder__manufacturer_saturn']\n",
      " ['-5.7413918179840626e-21' 'onehotencoder__manufacturer_subaru']\n",
      " ['2.2967844680244376e-19' 'onehotencoder__manufacturer_toyota']\n",
      " ['-4.738886325499965e-21' 'onehotencoder__manufacturer_volkswagen']\n",
      " ['-1.1403616492168095e-21' 'onehotencoder__manufacturer_volvo']\n",
      " ['-3.0468327135388647e-22' 'onehotencoder__model_1500 crew cab']\n",
      " ['-6.63633281501794e-22' 'onehotencoder__model_1500 crew cab big horn']\n",
      " ['-3.590961969106685e-22'\n",
      "  'onehotencoder__model_1500 quad cab harvest pickup']\n",
      " ['-1.2566734821536324e-21' 'onehotencoder__model_200']\n",
      " ['-7.630080783086751e-22' 'onehotencoder__model_3']\n",
      " ['-1.456445638439269e-21' 'onehotencoder__model_3 series']\n",
      " ['-4.270140128231357e-22' 'onehotencoder__model_3-series']\n",
      " ['-7.650904667069154e-22' 'onehotencoder__model_300']\n",
      " ['-6.696791832119821e-22' 'onehotencoder__model_328i']\n",
      " ['-3.8123808249797384e-22' 'onehotencoder__model_370z nismo coupe 2d']\n",
      " ['-4.762076153917234e-22' 'onehotencoder__model_4 series']\n",
      " ['-1.701894698315357e-21' 'onehotencoder__model_4runner']\n",
      " ['-2.7148360652881324e-22'\n",
      "  'onehotencoder__model_4runner sr5 sport utility']\n",
      " ['-1.213401989698202e-21' 'onehotencoder__model_5 series']\n",
      " ['-9.358966462946248e-22' 'onehotencoder__model_a4']\n",
      " ['-4.954590106417529e-22' 'onehotencoder__model_a6']\n",
      " ['-9.626112546803913e-22' 'onehotencoder__model_acadia']\n",
      " ['-5.190948914731982e-22' 'onehotencoder__model_accent']\n",
      " ['-4.447431440577767e-21' 'onehotencoder__model_accord']\n",
      " ['-6.362264105398553e-22' 'onehotencoder__model_accord ex']\n",
      " ['-5.594526628436417e-22' 'onehotencoder__model_accord ex-l']\n",
      " ['-5.474119290826816e-22' 'onehotencoder__model_accord lx']\n",
      " ['-3.407294665970153e-21' 'onehotencoder__model_altima']\n",
      " ['-5.169565125078883e-22' 'onehotencoder__model_altima 2.5 s']\n",
      " ['-6.284845412123833e-22' 'onehotencoder__model_avalanche']\n",
      " ['-5.8494550290552985e-22' 'onehotencoder__model_avalon']\n",
      " ['-5.153243663660619e-22' 'onehotencoder__model_avenger']\n",
      " ['-5.541901241968845e-22' 'onehotencoder__model_beetle']\n",
      " ['-3.5755448765875065e-22' 'onehotencoder__model_benz e350']\n",
      " ['-1.2143606573571388e-21' 'onehotencoder__model_c-class']\n",
      " ['-1.4567283069576437e-21' 'onehotencoder__model_camaro']\n",
      " ['-8.893151653535168e-22' 'onehotencoder__model_camaro ss coupe 2d']\n",
      " ['-4.6096876153593696e-21' 'onehotencoder__model_camry']\n",
      " ['-9.597324855007494e-22' 'onehotencoder__model_camry le']\n",
      " ['-4.786442289830227e-22' 'onehotencoder__model_camry se']\n",
      " ['-7.724197025155466e-22' 'onehotencoder__model_challenger']\n",
      " ['-6.51110797137166e-22' 'onehotencoder__model_challenger r/t coupe 2d']\n",
      " ['-2.582988747301091e-22'\n",
      "  'onehotencoder__model_challenger srt8 coupe 2d']\n",
      " ['-1.9607843401281503e-21' 'onehotencoder__model_charger']\n",
      " ['-1.4514604953595214e-21' 'onehotencoder__model_cherokee']\n",
      " ['-4.2165805916743244e-21' 'onehotencoder__model_civic']\n",
      " ['-5.804374967660643e-22' 'onehotencoder__model_civic ex']\n",
      " ['-8.474603406765791e-22' 'onehotencoder__model_civic lx']\n",
      " ['-5.055573369786713e-22' 'onehotencoder__model_cobalt']\n",
      " ['-9.148940020919798e-22' 'onehotencoder__model_colorado']\n",
      " ['-6.467674149192927e-22' 'onehotencoder__model_colorado extended cab']\n",
      " ['-8.690261285095349e-22' 'onehotencoder__model_compass']\n",
      " ['-4.0508336329403775e-22' 'onehotencoder__model_cooper']\n",
      " ['-4.380270047076025e-22' 'onehotencoder__model_cooper s']\n",
      " ['-2.934790587463098e-21' 'onehotencoder__model_corolla']\n",
      " ['-5.837248043669321e-22' 'onehotencoder__model_corolla le']\n",
      " ['-1.9009701529443915e-21' 'onehotencoder__model_corvette']\n",
      " ['-7.329529477832001e-22' 'onehotencoder__model_corvette grand sport']\n",
      " ['-2.249098517553963e-22' 'onehotencoder__model_corvette stingray']\n",
      " ['-2.5016605849227663e-21' 'onehotencoder__model_cr-v']\n",
      " ['-3.959084027453596e-22' 'onehotencoder__model_crown victoria']\n",
      " ['-2.1313361037892288e-21' 'onehotencoder__model_cruze']\n",
      " ['-4.82481909690206e-22' 'onehotencoder__model_cruze lt']\n",
      " ['-3.7919852897271453e-22' 'onehotencoder__model_crv']\n",
      " ['-7.863601858782191e-22' 'onehotencoder__model_cts']\n",
      " ['-4.773397536783608e-22' 'onehotencoder__model_cx-5']\n",
      " ['-3.3195190972337992e-22' 'onehotencoder__model_cx-9']\n",
      " ['-6.618135887667088e-22' 'onehotencoder__model_dakota']\n",
      " ['-5.436534800239598e-22' 'onehotencoder__model_dart']\n",
      " ['-4.645042972797765e-22' 'onehotencoder__model_deville']\n",
      " ['-4.242620929369739e-22' 'onehotencoder__model_dts']\n",
      " ['-8.586586796927275e-22' 'onehotencoder__model_durango']\n",
      " ['-1.037080071616454e-21' 'onehotencoder__model_e-class']\n",
      " ['-3.327856021043182e-22' 'onehotencoder__model_econoline']\n",
      " ['-3.791364454414984e-22' 'onehotencoder__model_econoline cargo van']\n",
      " ['-2.712027940628608e-22'\n",
      "  'onehotencoder__model_econoline commercial cutaway']\n",
      " ['-1.665447773886839e-21' 'onehotencoder__model_edge']\n",
      " ['-2.0607605075258807e-21' 'onehotencoder__model_elantra']\n",
      " ['-7.950271173186502e-22' 'onehotencoder__model_enclave']\n",
      " ['-4.967469710395906e-22' 'onehotencoder__model_encore']\n",
      " ['-2.57655095450369e-21' 'onehotencoder__model_equinox']\n",
      " ['-7.601983132991889e-22' 'onehotencoder__model_equinox lt']\n",
      " ['-7.963834178874924e-22' 'onehotencoder__model_es 350']\n",
      " ['-6.883318668333108e-22' 'onehotencoder__model_escalade']\n",
      " ['-3.932539957681304e-21' 'onehotencoder__model_escape']\n",
      " ['-3.5101144197970195e-22' 'onehotencoder__model_escape se']\n",
      " ['-6.035953881399322e-22' 'onehotencoder__model_escape xlt']\n",
      " ['-1.2303172921697994e-21' 'onehotencoder__model_expedition']\n",
      " ['-6.556502344931273e-22' 'onehotencoder__model_expedition xlt sport']\n",
      " ['-2.877787271331089e-21' 'onehotencoder__model_explorer']\n",
      " ['-5.148167421879548e-22' 'onehotencoder__model_explorer xlt']\n",
      " ['-3.980469649507667e-22' 'onehotencoder__model_express']\n",
      " ['-5.419993130867753e-22' 'onehotencoder__model_express cargo van']\n",
      " ['-8.721319336266948e-21' 'onehotencoder__model_f-150']\n",
      " ['-5.36482831116109e-22' 'onehotencoder__model_f-150 xlt']\n",
      " ['-7.657207685973965e-22' 'onehotencoder__model_f-250']\n",
      " ['-3.311738968527939e-22' 'onehotencoder__model_f-250 sd']\n",
      " ['-7.813760643863907e-22' 'onehotencoder__model_f-250 super duty']\n",
      " ['-3.9619774003260496e-22' 'onehotencoder__model_f-350']\n",
      " ['-3.5039558043942897e-22' 'onehotencoder__model_f-350 super duty']\n",
      " ['-1.3827036860392e-21' 'onehotencoder__model_f150']\n",
      " ['-5.457756466197824e-22' 'onehotencoder__model_f150 supercrew cab']\n",
      " ['-3.5199562941049057e-22' 'onehotencoder__model_f150 supercrew cab xlt']\n",
      " ['-3.359123262685548e-22' 'onehotencoder__model_f150 xlt']\n",
      " ['-7.0045187360159455e-22' 'onehotencoder__model_f250']\n",
      " ['-5.782649539868226e-22' 'onehotencoder__model_f250 super duty']\n",
      " ['-3.557669417555813e-22'\n",
      "  'onehotencoder__model_f250 super duty crew cab']\n",
      " ['-5.763904096482239e-22' 'onehotencoder__model_f350']\n",
      " ['-4.675206327932476e-22' 'onehotencoder__model_f350 super duty']\n",
      " ['-6.978600882366291e-22' 'onehotencoder__model_fiesta']\n",
      " ['-7.985237369366652e-22' 'onehotencoder__model_fit']\n",
      " ['-4.809920057615453e-22' 'onehotencoder__model_fj cruiser']\n",
      " ['-4.475675475722275e-22' 'onehotencoder__model_flex']\n",
      " ['-2.464297303149768e-21' 'onehotencoder__model_focus']\n",
      " ['-9.05230468385916e-22' 'onehotencoder__model_focus se']\n",
      " ['-1.5104790977221733e-21' 'onehotencoder__model_forester']\n",
      " ['-7.3936701099269465e-22' 'onehotencoder__model_forte']\n",
      " ['-7.26138279020964e-22' 'onehotencoder__model_frontier']\n",
      " ['-4.591943250990527e-22'\n",
      "  'onehotencoder__model_frontier crew cab pro-4x']\n",
      " ['-2.369148633490263e-21' 'onehotencoder__model_fusion']\n",
      " ['-1.2110054921245424e-21' 'onehotencoder__model_fusion se']\n",
      " ['-3.456204509114307e-22' 'onehotencoder__model_fusion sel']\n",
      " ['-6.008308712798501e-22' 'onehotencoder__model_g6']\n",
      " ['-4.950015005244102e-22' 'onehotencoder__model_gl-class']\n",
      " ['-1.997174159766332e-21' 'onehotencoder__model_grand caravan']\n",
      " ['-5.9542525641344735e-22' 'onehotencoder__model_grand caravan sxt']\n",
      " ['-3.157920379038845e-21' 'onehotencoder__model_grand cherokee']\n",
      " ['-5.83941846173427e-22' 'onehotencoder__model_grand cherokee laredo']\n",
      " ['-5.20752826985039e-22' 'onehotencoder__model_grand marquis']\n",
      " ['-4.350264147215231e-22' 'onehotencoder__model_grand prix']\n",
      " ['-3.50448056240253e-22' 'onehotencoder__model_gs 350 sedan 4d']\n",
      " ['-4.371865674562401e-22' 'onehotencoder__model_gti']\n",
      " ['-1.4081576122651154e-21' 'onehotencoder__model_highlander']\n",
      " ['-2.334845972160367e-21' 'onehotencoder__model_impala']\n",
      " ['-6.4591690458222505e-22' 'onehotencoder__model_impala lt']\n",
      " ['-1.0296768303053564e-21' 'onehotencoder__model_impreza']\n",
      " ['-1.9771111482504174e-21' 'onehotencoder__model_jetta']\n",
      " ['-9.659645669050292e-22' 'onehotencoder__model_journey']\n",
      " ['-5.147083620950062e-22' 'onehotencoder__model_lacrosse']\n",
      " ['-9.74407023729688e-22' 'onehotencoder__model_legacy']\n",
      " ['-1.0471738719225665e-21' 'onehotencoder__model_liberty']\n",
      " ['-1.08779765776888e-21' 'onehotencoder__model_m-class']\n",
      " ['-2.2155044512218217e-21' 'onehotencoder__model_malibu']\n",
      " ['-6.1613398882781855e-22' 'onehotencoder__model_malibu lt']\n",
      " ['-9.306790204751471e-22' 'onehotencoder__model_maxima']\n",
      " ['-7.243295415616806e-22' 'onehotencoder__model_mazda3']\n",
      " ['-9.398838126077784e-22' 'onehotencoder__model_mdx']\n",
      " ['-5.012746439563778e-22' 'onehotencoder__model_mkx']\n",
      " ['-4.94715314045785e-22' 'onehotencoder__model_mkz']\n",
      " ['-8.525916338235184e-22' 'onehotencoder__model_murano']\n",
      " ['-2.9372556414000455e-21' 'onehotencoder__model_mustang']\n",
      " ['-2.906297889700452e-22' 'onehotencoder__model_mustang gt']\n",
      " ['-7.887263466152371e-22' 'onehotencoder__model_mustang gt coupe 2d']\n",
      " ['-3.260755333328005e-22' 'onehotencoder__model_mustang gt premium']\n",
      " ['-3.0153049040228807e-22'\n",
      "  'onehotencoder__model_mustang gt premium coupe 2d']\n",
      " ['-2.128745700933554e-21' 'onehotencoder__model_odyssey']\n",
      " ['-3.8015982822187016e-22' 'onehotencoder__model_odyssey ex-l']\n",
      " ['-1.1569668694656208e-21' 'onehotencoder__model_optima']\n",
      " ['-1.8842452512859052e-21' 'onehotencoder__model_outback']\n",
      " ['-4.444407823232507e-22' 'onehotencoder__model_outlander']\n",
      " ['-3.681362599140403e-22' 'onehotencoder__model_outlander sport']\n",
      " ['-3.392613339777716e-22' 'onehotencoder__model_pacifica']\n",
      " ['-1.1202978366565408e-21' 'onehotencoder__model_passat']\n",
      " ['-9.78312261122854e-22' 'onehotencoder__model_pathfinder']\n",
      " ['-1.0956041736212294e-21' 'onehotencoder__model_patriot']\n",
      " ['-6.067814645920947e-22' 'onehotencoder__model_pickup 1500']\n",
      " ['-5.869059562153333e-22' 'onehotencoder__model_pickup 2500']\n",
      " ['-1.3445605259790792e-21' 'onehotencoder__model_pilot']\n",
      " ['-2.0015320326197066e-21' 'onehotencoder__model_prius']\n",
      " ['-5.913108319468335e-22' 'onehotencoder__model_pt cruiser']\n",
      " ['-4.889253990658728e-22' 'onehotencoder__model_q5']\n",
      " ['-3.0706343696217163e-22' 'onehotencoder__model_qx60 3.5 sport utility']\n",
      " ['-1.255207101129409e-21' 'onehotencoder__model_ranger']\n",
      " ['-2.0990870841981294e-21' 'onehotencoder__model_rav4']\n",
      " ['-4.297511307504967e-22' 'onehotencoder__model_rdx']\n",
      " ['-4.919045871414386e-22' 'onehotencoder__model_renegade']\n",
      " ['-1.623863295413171e-21' 'onehotencoder__model_rogue']\n",
      " ['-1.003874320942431e-21' 'onehotencoder__model_rx 350']\n",
      " ['-2.4951593049384423e-22'\n",
      "  'onehotencoder__model_rx 350 sport utility 4d']\n",
      " ['-8.828713852549993e-22' 'onehotencoder__model_s-class']\n",
      " ['-4.276175774045903e-22' 'onehotencoder__model_s60']\n",
      " ['-1.0459220471133765e-21' 'onehotencoder__model_santa fe']\n",
      " ['-3.616807950392211e-22' 'onehotencoder__model_santa fe sport']\n",
      " ['-1.705129424001339e-21' 'onehotencoder__model_sentra']\n",
      " ['-3.897691063427473e-22' 'onehotencoder__model_sequoia']\n",
      " ['-1.4979882492878003e-21' 'onehotencoder__model_sienna']\n",
      " ['-3.9711791624488946e-22' 'onehotencoder__model_sienna le']\n",
      " ['-9.41490348939159e-22' 'onehotencoder__model_sierra']\n",
      " ['-2.251233435562157e-21' 'onehotencoder__model_sierra 1500']\n",
      " ['-3.056298749687273e-22'\n",
      "  'onehotencoder__model_sierra 1500 double cab sle']\n",
      " ['-3.2485511761153224e-22'\n",
      "  'onehotencoder__model_sierra 1500 limited double']\n",
      " ['-3.1296207114585535e-22'\n",
      "  'onehotencoder__model_sierra 2500 hd double cab']\n",
      " ['-4.170635824003452e-22'\n",
      "  'onehotencoder__model_sierra 2500 hd extended cab']\n",
      " ['-1.019723903202141e-21' 'onehotencoder__model_sierra 2500hd']\n",
      " ['-2.3712552575706137e-22' 'onehotencoder__model_sierra 3500hd']\n",
      " ['-2.5288201828631877e-21' 'onehotencoder__model_silverado']\n",
      " ['-1.1363969222967428e-20' 'onehotencoder__model_silverado 1500']\n",
      " ['-6.886950601239899e-22' 'onehotencoder__model_silverado 1500 double']\n",
      " ['-3.5527576083974737e-22' 'onehotencoder__model_silverado 1500 ld']\n",
      " ['-4.97908349492159e-22' 'onehotencoder__model_silverado 1500 lt']\n",
      " ['-2.3983574618023917e-21' 'onehotencoder__model_silverado 2500']\n",
      " ['-1.832381687345089e-21' 'onehotencoder__model_silverado 2500hd']\n",
      " ['-1.174400868502384e-21' 'onehotencoder__model_silverado 3500']\n",
      " ['-2.613116154133012e-22' 'onehotencoder__model_silverado 3500hd']\n",
      " ['-2.321207100562632e-21' 'onehotencoder__model_sonata']\n",
      " ['-3.590351393758502e-22' 'onehotencoder__model_sonata gls']\n",
      " ['-4.8769390717594675e-22' 'onehotencoder__model_sonic']\n",
      " ['-8.093563550072447e-22' 'onehotencoder__model_sorento']\n",
      " ['-1.6344367857416328e-21' 'onehotencoder__model_soul']\n",
      " ['-3.5792609165785e-22' 'onehotencoder__model_spark']\n",
      " ['-3.7242330663532804e-22' 'onehotencoder__model_sport']\n",
      " ['-5.225583385551191e-22' 'onehotencoder__model_sportage']\n",
      " ['-7.058458752836631e-22' 'onehotencoder__model_srx']\n",
      " ['-1.4182483346520968e-21' 'onehotencoder__model_suburban']\n",
      " ['-5.621774292178573e-22' 'onehotencoder__model_super duty f-250']\n",
      " ['-5.055509622930074e-22' 'onehotencoder__model_super duty f-250 srw']\n",
      " ['-3.248677672132093e-22' 'onehotencoder__model_super duty f-350 drw']\n",
      " ['-4.993744812619403e-22' 'onehotencoder__model_super duty f-350 srw']\n",
      " ['-2.9476873120222608e-22' 'onehotencoder__model_super duty f-450 drw']\n",
      " ['-4.607685251141031e-22' 'onehotencoder__model_super duty f-550 drw']\n",
      " ['-2.974750635887473e-21' 'onehotencoder__model_tacoma']\n",
      " ['-6.023191299953509e-22'\n",
      "  'onehotencoder__model_tacoma double cab pickup']\n",
      " ['-2.0648550304233075e-21' 'onehotencoder__model_tahoe']\n",
      " ['-1.3232977426674066e-21' 'onehotencoder__model_taurus']\n",
      " ['-8.3264458550146e-22' 'onehotencoder__model_terrain']\n",
      " ['-3.454731885118587e-22' 'onehotencoder__model_thunderbird']\n",
      " ['-6.501006489398865e-22' 'onehotencoder__model_tiguan']\n",
      " ['-5.667203772848127e-22' 'onehotencoder__model_titan']\n",
      " ['-2.63269761962894e-22' 'onehotencoder__model_titan single cab sv']\n",
      " ['-7.779708282378175e-22' 'onehotencoder__model_tl']\n",
      " ['-1.1910888893700214e-21' 'onehotencoder__model_town & country']\n",
      " ['-3.9946696826539677e-22' 'onehotencoder__model_town and country']\n",
      " ['-5.199464276782751e-22' 'onehotencoder__model_town car']\n",
      " ['-7.110639088102418e-22' 'onehotencoder__model_trailblazer']\n",
      " ['-5.108825164381301e-22' 'onehotencoder__model_transit']\n",
      " ['-3.060437349476139e-22' 'onehotencoder__model_transit cargo van']\n",
      " ['-5.317876593488516e-22' 'onehotencoder__model_transit connect']\n",
      " ['-1.0936197132994728e-21' 'onehotencoder__model_traverse']\n",
      " ['-3.789059247447947e-22' 'onehotencoder__model_trax']\n",
      " ['-4.788495947849044e-22' 'onehotencoder__model_tsx']\n",
      " ['-8.015600704495213e-22' 'onehotencoder__model_tucson']\n",
      " ['2.54316729941259e-19' 'onehotencoder__model_tundra']\n",
      " ['-2.580268657027304e-22' 'onehotencoder__model_tundra double cab sr']\n",
      " ['-5.392422830542545e-22' 'onehotencoder__model_veloster']\n",
      " ['-1.0662931342514292e-21' 'onehotencoder__model_versa']\n",
      " ['-3.257667824283013e-22' 'onehotencoder__model_vibe']\n",
      " ['-3.7556268665113905e-22' 'onehotencoder__model_vue']\n",
      " ['-3.1327628875240983e-21' 'onehotencoder__model_wrangler']\n",
      " ['-2.584940569081948e-22' 'onehotencoder__model_wrangler sport suv 2d']\n",
      " ['-1.782884764457278e-21' 'onehotencoder__model_wrangler unlimited']\n",
      " ['-2.969289353747987e-22'\n",
      "  'onehotencoder__model_wrangler unlimited all new']\n",
      " ['-3.6147945274063243e-22'\n",
      "  'onehotencoder__model_wrangler unlimited rubicon']\n",
      " ['-3.9290928998139603e-22'\n",
      "  'onehotencoder__model_wrangler unlimited sahara']\n",
      " ['-5.9541271458762205e-22'\n",
      "  'onehotencoder__model_wrangler unlimited sport']\n",
      " ['-3.4258361494092916e-22' 'onehotencoder__model_wrx']\n",
      " ['-7.341892038572102e-22' 'onehotencoder__model_x3']\n",
      " ['-1.2233840468857336e-21' 'onehotencoder__model_x5']\n",
      " ['-3.032388508967677e-22' 'onehotencoder__model_xc60']\n",
      " ['-4.095052209154517e-22' 'onehotencoder__model_xc90']\n",
      " ['-5.952588305777723e-22' 'onehotencoder__model_xterra']\n",
      " ['-4.0363897108706555e-22' 'onehotencoder__model_yaris']\n",
      " ['-9.158772313087174e-22' 'onehotencoder__model_yukon']\n",
      " ['-3.7159707848042003e-22' 'onehotencoder__model_yukon denali']\n",
      " ['-3.772571087588313e-22' 'onehotencoder__model_yukon xl']\n",
      " ['-1.296115863084246e-21' 'onehotencoder__cylinders_10 cylinders']\n",
      " ['-2.0517341706709603e-23' 'onehotencoder__cylinders_12 cylinders']\n",
      " ['-2.3262037129526292e-22' 'onehotencoder__cylinders_3 cylinders']\n",
      " ['-9.817059799901101e-20' 'onehotencoder__cylinders_4 cylinders']\n",
      " ['-1.6442912315011173e-21' 'onehotencoder__cylinders_5 cylinders']\n",
      " ['-8.896914871826732e-20' 'onehotencoder__cylinders_6 cylinders']\n",
      " ['1.908948369320991e-19' 'onehotencoder__cylinders_8 cylinders']\n",
      " ['-5.615454072263585e-22' 'onehotencoder__cylinders_other']\n",
      " ['-1.0797924704228571e-20' 'onehotencoder__fuel_diesel']\n",
      " ['-2.145404131516922e-23' 'onehotencoder__fuel_electric']\n",
      " ['1.6142187008045208e-20' 'onehotencoder__fuel_gas']\n",
      " ['-2.4202541774917143e-21' 'onehotencoder__fuel_hybrid']\n",
      " ['-2.902554085001156e-21' 'onehotencoder__fuel_other']\n",
      " ['3.136947360363925e-20' 'onehotencoder__transmission_automatic']\n",
      " ['-1.4210990084934475e-20' 'onehotencoder__transmission_manual']\n",
      " ['-1.7158483518692284e-20' 'onehotencoder__transmission_other']\n",
      " ['1.4896629856955303e-19' 'onehotencoder__drive_4wd']\n",
      " ['-1.0355559271527318e-19' 'onehotencoder__drive_fwd']\n",
      " ['-4.5410705854273104e-20' 'onehotencoder__drive_rwd']\n",
      " ['-6.978576331679809e-20' 'onehotencoder__type_SUV']\n",
      " ['-1.1424100112224659e-22' 'onehotencoder__type_bus']\n",
      " ['-2.622240787553055e-21' 'onehotencoder__type_convertible']\n",
      " ['-1.3524297435158448e-20' 'onehotencoder__type_coupe']\n",
      " ['-7.029034495265613e-21' 'onehotencoder__type_hatchback']\n",
      " ['-5.576583290714982e-21' 'onehotencoder__type_mini-van']\n",
      " ['-7.063009891090342e-22' 'onehotencoder__type_offroad']\n",
      " ['-4.613300492569417e-21' 'onehotencoder__type_other']\n",
      " ['2.2923541628183917e-19' 'onehotencoder__type_pickup']\n",
      " ['-7.834429560539274e-20' 'onehotencoder__type_sedan']\n",
      " ['-3.4740761545224934e-20' 'onehotencoder__type_truck']\n",
      " ['-5.33407279751288e-21' 'onehotencoder__type_van']\n",
      " ['-6.844524525413427e-21' 'onehotencoder__type_wagon']\n",
      " ['-4.7835654873647144e-20' 'onehotencoder__paint_color_black']\n",
      " ['-2.6906135765993252e-20' 'onehotencoder__paint_color_blue']\n",
      " ['-6.7247150431320275e-21' 'onehotencoder__paint_color_brown']\n",
      " ['-1.0108172666382178e-20' 'onehotencoder__paint_color_custom']\n",
      " ['-6.977125490576594e-21' 'onehotencoder__paint_color_green']\n",
      " ['-2.9828916377063956e-20' 'onehotencoder__paint_color_grey']\n",
      " ['-1.1299946179141153e-21' 'onehotencoder__paint_color_orange']\n",
      " ['-6.935500494269376e-22' 'onehotencoder__paint_color_purple']\n",
      " ['-2.6179056902256235e-20' 'onehotencoder__paint_color_red']\n",
      " ['2.160338097745818e-19' 'onehotencoder__paint_color_silver']\n",
      " ['-5.779910894768103e-20' 'onehotencoder__paint_color_white']\n",
      " ['-1.8513790405073655e-21' 'onehotencoder__paint_color_yellow']\n",
      " ['1.725769258452274e-20' 'ordinalencoder__title_status']\n",
      " ['1.474142090176036e-19' 'ordinalencoder__condition']]\n"
     ]
    }
   ],
   "source": [
    "print(np.sort(list(zip(pipe['transformer'].get_feature_names_out(), pipe['linreg'].coef_))))"
   ]
  },
  {
   "cell_type": "code",
   "execution_count": 47,
   "metadata": {},
   "outputs": [],
   "source": [
    "pi = permutation_importance(pipe, X_train, y_train)\n",
    "pi_feats = zip(X_train.columns, pi.importances_mean)"
   ]
  },
  {
   "cell_type": "code",
   "execution_count": 48,
   "metadata": {},
   "outputs": [
    {
     "name": "stdout",
     "output_type": "stream",
     "text": [
      "[('year', -4.572709213501724e-08), ('manufacturer', 0.0), ('model', 0.0), ('condition', 0.0), ('cylinders', 0.0), ('fuel', 0.0), ('odometer', 1.9781231489357508e-05), ('title_status', 0.0), ('transmission', 0.0), ('drive', 0.0), ('type', 0.0), ('paint_color', 0.0)]\n"
     ]
    }
   ],
   "source": [
    "print(list(pi_feats))"
   ]
  },
  {
   "cell_type": "code",
   "execution_count": 57,
   "metadata": {},
   "outputs": [
    {
     "name": "stdout",
     "output_type": "stream",
     "text": [
      "1.4244753620521233\n",
      "0.004098181923769959\n"
     ]
    }
   ],
   "source": [
    "pipe2 = Pipeline([('transformer', poly_ordinal_ohe), ('scaler', StandardScaler(with_mean=False)), ('linreg', LinearRegression())])\n",
    "pipe2.fit(X_train, y_train)\n",
    "sp1 = pipe2.predict(X_train)\n",
    "sp2 = pipe2.predict(X_test)\n",
    "train_mse = mean_squared_error(y_train,sp1)\n",
    "test_mse = mean_squared_error(y_test, sp2)\n",
    "print(train_mse)\n",
    "print(test_mse)"
   ]
  },
  {
   "cell_type": "code",
   "execution_count": 58,
   "metadata": {},
   "outputs": [
    {
     "name": "stdout",
     "output_type": "stream",
     "text": [
      "[('year', 7.367019152657584e-05), ('manufacturer', 0.0001619091032502462), ('model', 0.00529173043571034), ('condition', 4.4930971383894124e-05), ('cylinders', -6.517661926674911e-06), ('fuel', -1.5685249719066263e-07), ('odometer', 1.6886143011873856e-06), ('title_status', 1.5801278632432415e-06), ('transmission', -1.4971899836346835e-06), ('drive', 0.00015776502083966192), ('type', 0.0003999746732552989), ('paint_color', 0.0002039371133338852)]\n"
     ]
    }
   ],
   "source": [
    "spi = permutation_importance(pipe2, X_train, y_train)\n",
    "spi_feats = zip(X_train.columns, spi.importances_mean)\n",
    "print(list(spi_feats))"
   ]
  },
  {
   "cell_type": "code",
   "execution_count": 59,
   "metadata": {},
   "outputs": [
    {
     "data": {
      "text/plain": [
       "<AxesSubplot:>"
      ]
     },
     "execution_count": 59,
     "metadata": {},
     "output_type": "execute_result"
    },
    {
     "data": {
      "image/png": "[encoded data removed]",
      "text/plain": [
       "<Figure size 432x288 with 1 Axes>"
      ]
     },
     "metadata": {
      "needs_background": "light"
     },
     "output_type": "display_data"
    }
   ],
   "source": [
    "scaler_model = pd.DataFrame(spi.importances_mean, columns=['Features'],index=X_train.columns)\n",
    "scaler_model.plot.barh()\n",
    "#plt.title('Permuatation importances of Features after a StandardScaler model')"
   ]
  },
  {
   "cell_type": "code",
   "execution_count": 52,
   "metadata": {},
   "outputs": [],
   "source": [
    "#Select the n_features_to_select by running GridSearchCV\n",
    "selector = SequentialFeatureSelector(estimator=Lasso())\n",
    "param_dict = {'selector__n_features_to_select':[2,3,4,5,6]}\n",
    "selector_pipe = Pipeline([('transformer', poly_ordinal_ohe),('scaler', StandardScaler(with_mean=False)),('selector',selector), ('linreg', Ridge(alpha=1.0))])\n",
    "selector_grid = GridSearchCV(selector_pipe,param_dict)\n",
    "selector_grid.fit(X_train, y_train)\n",
    "selector_train_mse = mean_squared_error(selector_grid.best_estimator_.predict(X_train),y_train)\n",
    "selector_test_mse = mean_squared_error(selector_grid.best_estimator_.predict(X_test),y_test)"
   ]
  },
  {
   "cell_type": "code",
   "execution_count": 53,
   "metadata": {},
   "outputs": [
    {
     "name": "stdout",
     "output_type": "stream",
     "text": [
      "1.4285254993873278\n",
      "0.00010428784712651785\n",
      "{'selector__n_features_to_select': 2}\n"
     ]
    }
   ],
   "source": [
    "print(selector_train_mse)\n",
    "print(selector_test_mse)\n",
    "print(selector_grid.best_params_)"
   ]
  },
  {
   "cell_type": "code",
   "execution_count": 61,
   "metadata": {},
   "outputs": [],
   "source": [
    "ridge_param_dict = {'ridge__alpha' : [0.001, 0.1, 1.0, 10.0, 100.0, 1000.0]}\n",
    "selector2 = SequentialFeatureSelector(estimator=LinearRegression(), n_features_to_select= 2)\n",
    "ridge_pipe = Pipeline([('transformer', poly_ordinal_ohe),('scaler',StandardScaler(with_mean=False)),('selector',selector2),('ridge',Ridge())])\n",
    "ridge_grid = GridSearchCV(ridge_pipe, ridge_param_dict)\n",
    "ridge_grid.fit(X_train, y_train)\n",
    "ridge_train_mse = mean_squared_error(ridge_grid.best_estimator_.predict(X_train), y_train)\n",
    "ridge_test_mse = mean_squared_error(ridge_grid.best_estimator_.predict(X_test), y_test)"
   ]
  },
  {
   "cell_type": "code",
   "execution_count": 63,
   "metadata": {},
   "outputs": [
    {
     "name": "stdout",
     "output_type": "stream",
     "text": [
      "1.4285343565101478\n",
      "9.35941176829756e-05\n",
      "{'ridge__alpha': 1000.0}\n"
     ]
    }
   ],
   "source": [
    "print(ridge_train_mse)\n",
    "print(ridge_test_mse)\n",
    "print(ridge_grid.best_params_)"
   ]
  },
  {
   "cell_type": "code",
   "execution_count": 64,
   "metadata": {},
   "outputs": [
    {
     "name": "stdout",
     "output_type": "stream",
     "text": [
      "1.4285255018234466\n",
      "0.00010396735043581574\n"
     ]
    }
   ],
   "source": [
    "selector = SequentialFeatureSelector(estimator=Lasso(), n_features_to_select=2)\n",
    "model_pipe = Pipeline([('transformer', poly_ordinal_ohe),('scaler', StandardScaler(with_mean=False)),('selector',selector), ('linreg', Ridge(alpha=1000.0))])\n",
    "model_pipe.fit(X_train, y_train)\n",
    "mp1 = model_pipe.predict(X_train)\n",
    "mp2 = model_pipe.predict(X_test)\n",
    "train_mse_model = mean_squared_error(y_train,mp1)\n",
    "test_mse_model = mean_squared_error(y_test, mp2)\n",
    "print(train_mse_model)\n",
    "print(test_mse_model)"
   ]
  },
  {
   "cell_type": "markdown",
   "metadata": {},
   "source": [
    "### Evaluation\n",
    "\n",
    "With some modeling accomplished, we aim to reflect on what we identify as a high quality model and what we are able to learn from this.  We should review our business objective and explore how well we can provide meaningful insight on drivers of used car prices.  Your goal now is to distill your findings and determine whether the earlier phases need revisitation and adjustment or if you have information of value to bring back to your client."
   ]
  },
  {
   "cell_type": "markdown",
   "metadata": {},
   "source": [
    "Results Evaluation: With the linear regression model the mean squared error for test data was better than the training error. While this model is based on data trimmed based on the top 259 car models, the model could be trained better with grouping similar car models. The model that performed wellwas the model with Ridge Regression and alpha of 1000.0 and Sequential Feature Selection number of features to select =2. This model will perform well as long as the training model is fed a car model that it has seen during training. Moreover, one could tell looking at the data cursorily that certain models have sold more than others and possibly hold that trend in the future."
   ]
  },
  {
   "cell_type": "markdown",
   "metadata": {},
   "source": [
    "Review: Merging similar data and running the model again and also making sure the test and train split produces similar distribution of data will ensure a robust model."
   ]
  },
  {
   "cell_type": "markdown",
   "metadata": {},
   "source": [
    "Next steps: Identify car models that can be merged. This will bring down the number of categories in the model. "
   ]
  },
  {
   "cell_type": "markdown",
   "metadata": {},
   "source": [
    "### Deployment\n",
    "\n",
    "Now that we've settled on our models and findings, it is time to deliver the information to the client.  You should organize your work as a basic report that details your primary findings.  Keep in mind that your audience is a group of used car dealers interested in fine tuning their inventory."
   ]
  },
  {
   "cell_type": "markdown",
   "metadata": {},
   "source": [
    "Final Report: We have successfully generated a machine learning model that given the necessary inputs of a car will predict the price of the car. From the data that was presented to us, we can tell that number of pickup truck models sold were at the top of the number of models sold implying that the pickup trucks will sell fast. The model can be improved to predict better. This model will predict with high amount of confidence only if it has seen the car model before. Some of the car models did not have enough data for the model to understand the pattern. Nevertheless, this is a good starting point for price prediction of car models."
   ]
  }
 ],
 "metadata": {
  "kernelspec": {
   "display_name": "Python 3 (ipykernel)",
   "language": "python",
   "name": "python3"
  },
  "language_info": {
   "codemirror_mode": {
    "name": "ipython",
    "version": 3
   },
   "file_extension": ".py",
   "mimetype": "text/x-python",
   "name": "python",
   "nbconvert_exporter": "python",
   "pygments_lexer": "ipython3",
   "version": "3.9.13"
  },
  "widgets": {
   "application/vnd.jupyter.widget-state+json": {
    "state": {},
    "version_major": 2,
    "version_minor": 0
   }
  }
 },
 "nbformat": 4,
 "nbformat_minor": 4
}
